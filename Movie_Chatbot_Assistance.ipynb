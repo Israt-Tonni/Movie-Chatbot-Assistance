{
  "nbformat": 4,
  "nbformat_minor": 0,
  "metadata": {
    "colab": {
      "provenance": []
    },
    "kernelspec": {
      "name": "python3",
      "display_name": "Python 3"
    },
    "language_info": {
      "name": "python"
    }
  },
  "cells": [
    {
      "cell_type": "code",
      "execution_count": 2,
      "metadata": {
        "colab": {
          "base_uri": "https://localhost:8080/"
        },
        "id": "wi8AyPafm_Ua",
        "outputId": "1b26ecb2-a982-4201-d407-4241f616a035"
      },
      "outputs": [
        {
          "output_type": "stream",
          "name": "stdout",
          "text": [
            "Looking in indexes: https://pypi.org/simple, https://us-python.pkg.dev/colab-wheels/public/simple/\n",
            "Requirement already satisfied: requests in /usr/local/lib/python3.9/dist-packages (2.25.1)\n",
            "Requirement already satisfied: chardet<5,>=3.0.2 in /usr/local/lib/python3.9/dist-packages (from requests) (4.0.0)\n",
            "Requirement already satisfied: idna<3,>=2.5 in /usr/local/lib/python3.9/dist-packages (from requests) (2.10)\n",
            "Requirement already satisfied: urllib3<1.27,>=1.21.1 in /usr/local/lib/python3.9/dist-packages (from requests) (1.26.14)\n",
            "Requirement already satisfied: certifi>=2017.4.17 in /usr/local/lib/python3.9/dist-packages (from requests) (2022.12.7)\n"
          ]
        }
      ],
      "source": [
        "!pip install requests"
      ]
    },
    {
      "cell_type": "code",
      "source": [
        "OMDB_API_KEY = \"your_api_key_here\"\n"
      ],
      "metadata": {
        "id": "vzu5Gl3Kners"
      },
      "execution_count": 3,
      "outputs": []
    },
    {
      "cell_type": "code",
      "source": [
        "import requests\n",
        "\n",
        "def respond(user_input):\n",
        "    # Split user input into words and remove any extra whitespace\n",
        "    words = user_input.lower().split()\n",
        "\n",
        "    # Check if the user is asking about a movie\n",
        "    if \"movie\" in words:\n",
        "        # Find the movie title in the user input\n",
        "        for i, word in enumerate(words):\n",
        "            if word == \"movie\":\n",
        "                movie_title = \" \".join(words[i+1:])\n",
        "                OMDB_API_KEY =  \"a901646e\"\n",
        "                break\n",
        "        else:\n",
        "            # If no movie title was found, ask the user to provide one\n",
        "            return \"Which movie do you want information about?\"\n",
        "\n",
        "        # Make a request to the OMDb API to retrieve information about the movie\n",
        "        response = requests.get(f\"http://www.omdbapi.com/?apikey={OMDB_API_KEY}&t={movie_title}\")\n",
        "        data = response.json()\n",
        "\n",
        "        # Check if the request was successful\n",
        "        if data[\"Response\"] == \"False\":\n",
        "            return \"I couldn't find information about that movie. Please try again.\"\n",
        "        # Extract the movie rating from the response data\n",
        "        rating = data.get(\"imdbRating\", \"N/A\")\n",
        "\n",
        "        # Return information about the movie\n",
        "        return f\"{data['Title']} ({data['Year']})\\n\\nGenre: {data['Genre']}\\nRelease Date: {data['Released']}\\nDirector: {data['Director']}\\nWriter: {data['Writer']}\\nCast: {data['Actors']}\\nAwards: {data['Awards']}\\nRatings: {data['imdbRating']}\"\n",
        "    # If the user is not asking about a movie, ask them to do so\n",
        "    return \"I'm sorry, I didn't understand that. Please ask me about a movie.\"\n"
      ],
      "metadata": {
        "id": "TzxBuz3tnf2E"
      },
      "execution_count": 35,
      "outputs": []
    },
    {
      "cell_type": "code",
      "source": [
        "print(respond(\"Tell me about the movie Titanic\"))\n",
        "print(respond(\"Can you tell me about the movie The Godfather?\"))\n",
        "\n"
      ],
      "metadata": {
        "colab": {
          "base_uri": "https://localhost:8080/"
        },
        "id": "Cv1Nw2ponk6C",
        "outputId": "139db943-9c99-4666-83ee-4ccc8b5f9e1e"
      },
      "execution_count": 40,
      "outputs": [
        {
          "output_type": "stream",
          "name": "stdout",
          "text": [
            "Titanic (1997)\n",
            "\n",
            "Genre: Drama, Romance\n",
            "Release Date: 19 Dec 1997\n",
            "Director: James Cameron\n",
            "Writer: James Cameron\n",
            "Cast: Leonardo DiCaprio, Kate Winslet, Billy Zane\n",
            "Awards: Won 11 Oscars. 126 wins & 83 nominations total\n",
            "Ratings: 7.9\n",
            "The Godfather (1972)\n",
            "\n",
            "Genre: Crime, Drama\n",
            "Release Date: 24 Mar 1972\n",
            "Director: Francis Ford Coppola\n",
            "Writer: Mario Puzo, Francis Ford Coppola\n",
            "Cast: Marlon Brando, Al Pacino, James Caan\n",
            "Awards: Won 3 Oscars. 32 wins & 31 nominations total\n",
            "Ratings: 9.2\n"
          ]
        }
      ]
    },
    {
      "cell_type": "code",
      "source": [
        "while True:\n",
        "    user_input = input(\"You: \")\n",
        "    if user_input.lower() == \"quit\":\n",
        "        break\n",
        "    response = respond(user_input)\n",
        "    print(\"Chatbot:\", response)\n"
      ],
      "metadata": {
        "colab": {
          "base_uri": "https://localhost:8080/"
        },
        "id": "aEInhy9enltq",
        "outputId": "2757aaeb-2b08-4c3b-9ded-57e10919cd57"
      },
      "execution_count": null,
      "outputs": [
        {
          "output_type": "stream",
          "name": "stdout",
          "text": [
            "You: movie devdas\n",
            "Chatbot: Devdas (2002)\n",
            "\n",
            "Genre: Drama, Musical, Romance\n",
            "Release Date: 12 Jul 2002\n",
            "Director: Sanjay Leela Bhansali\n",
            "Writer: Sharat Chandra Chaterjee, Prakash Kapadia, Sanjay Leela Bhansali\n",
            "Cast: Shah Rukh Khan, Aishwarya Rai Bachchan, Madhuri Dixit\n",
            "Awards: Nominated for 1 BAFTA Award60 wins & 19 nominations total\n",
            "Ratings: 7.5\n",
            "You: movie terminator\n",
            "Chatbot: Terminator (1991)\n",
            "\n",
            "Genre: Short, Action, Sci-Fi\n",
            "Release Date: N/A\n",
            "Director: Ben Hernandez\n",
            "Writer: James Cameron, Ben Hernandez\n",
            "Cast: Loris Basso, James Callahan, Debbie Medows\n",
            "Awards: N/A\n",
            "Ratings: 6.1\n",
            "You: movie while you were sleeping\n",
            "Chatbot: While You Were Sleeping (1995)\n",
            "\n",
            "Genre: Comedy, Drama, Romance\n",
            "Release Date: 21 Apr 1995\n",
            "Director: Jon Turteltaub\n",
            "Writer: Daniel G. Sullivan, Fredric Lebow\n",
            "Cast: Sandra Bullock, Bill Pullman, Peter Gallagher\n",
            "Awards: 4 wins & 5 nominations\n",
            "Ratings: 6.8\n"
          ]
        }
      ]
    }
  ]
}